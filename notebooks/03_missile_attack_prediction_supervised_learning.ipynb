{
 "cells": [
  {
   "cell_type": "code",
   "execution_count": 19,
   "id": "1",
   "metadata": {},
   "outputs": [],
   "source": [
    "# Import necessary libraries\n",
    "import pandas as pd\n",
    "import numpy as np\n",
    "from sklearn.preprocessing import StandardScaler\n",
    "from sklearn.model_selection import train_test_split\n",
    "from imblearn.over_sampling import SMOTE\n",
    "from sklearn.linear_model import LogisticRegression\n",
    "from sklearn.ensemble import RandomForestClassifier\n",
    "from sklearn.svm import SVC\n",
    "from sklearn.metrics import classification_report, confusion_matrix, accuracy_score\n",
    "import matplotlib.pyplot as plt\n",
    "import pandas as pd\n",
    "\n"
   ]
  },
  {
   "cell_type": "code",
   "execution_count": 20,
   "id": "2",
   "metadata": {},
   "outputs": [],
   "source": [
    "\n",
    "\n",
    "# Load the data\n",
    "data = pd.read_csv('../data/raw/missiles-acled-18-october-2023.csv', delimiter=';')\n"
   ]
  },
  {
   "cell_type": "code",
   "execution_count": 21,
   "id": "3",
   "metadata": {},
   "outputs": [],
   "source": [
    "# **Step 1: Clean and Filter Data**\n",
    "missile_data = data[(data['sub_event_type'].isin(['Shelling/artillery/missile attack', 'Air/drone strike'])) & \n",
    "                    (data['actor1'] == 'Military Forces of Israel (2022-)')]\n"
   ]
  },
  {
   "cell_type": "code",
   "execution_count": 22,
   "id": "4",
   "metadata": {},
   "outputs": [
    {
     "name": "stderr",
     "output_type": "stream",
     "text": [
      "C:\\Users\\matc_\\AppData\\Local\\Temp\\ipykernel_18996\\4225160965.py:2: SettingWithCopyWarning: \n",
      "A value is trying to be set on a copy of a slice from a DataFrame.\n",
      "Try using .loc[row_indexer,col_indexer] = value instead\n",
      "\n",
      "See the caveats in the documentation: https://pandas.pydata.org/pandas-docs/stable/user_guide/indexing.html#returning-a-view-versus-a-copy\n",
      "  missile_data['latitude'] = missile_data['latitude'].fillna(missile_data['latitude'].mean())\n",
      "C:\\Users\\matc_\\AppData\\Local\\Temp\\ipykernel_18996\\4225160965.py:3: SettingWithCopyWarning: \n",
      "A value is trying to be set on a copy of a slice from a DataFrame.\n",
      "Try using .loc[row_indexer,col_indexer] = value instead\n",
      "\n",
      "See the caveats in the documentation: https://pandas.pydata.org/pandas-docs/stable/user_guide/indexing.html#returning-a-view-versus-a-copy\n",
      "  missile_data['longitude'] = missile_data['longitude'].fillna(missile_data['longitude'].mean())\n",
      "C:\\Users\\matc_\\AppData\\Local\\Temp\\ipykernel_18996\\4225160965.py:4: SettingWithCopyWarning: \n",
      "A value is trying to be set on a copy of a slice from a DataFrame.\n",
      "Try using .loc[row_indexer,col_indexer] = value instead\n",
      "\n",
      "See the caveats in the documentation: https://pandas.pydata.org/pandas-docs/stable/user_guide/indexing.html#returning-a-view-versus-a-copy\n",
      "  missile_data['fatalities'] = missile_data['fatalities'].fillna(0)\n"
     ]
    }
   ],
   "source": [
    "# **Step 2: Handle Missing Values**\n",
    "missile_data['latitude'] = missile_data['latitude'].fillna(missile_data['latitude'].mean())\n",
    "missile_data['longitude'] = missile_data['longitude'].fillna(missile_data['longitude'].mean())\n",
    "missile_data['fatalities'] = missile_data['fatalities'].fillna(0)\n"
   ]
  },
  {
   "cell_type": "code",
   "execution_count": 23,
   "id": "5",
   "metadata": {},
   "outputs": [],
   "source": [
    "# **Step 3: Aggregate Data by Location**\n",
    "agg_data = missile_data.groupby('location').agg({\n",
    "    'event_id_cnty': 'count',  # Count of missile events per location\n",
    "    'fatalities': 'sum',       # Sum of fatalities per location\n",
    "    'latitude': 'mean',        # Average latitude\n",
    "    'longitude': 'mean',       # Average longitude\n",
    "}).reset_index()\n",
    "agg_data.rename(columns={'event_id_cnty': 'missile_attack_count', 'fatalities': 'total_fatalities'}, inplace=True)\n"
   ]
  },
  {
   "cell_type": "code",
   "execution_count": 24,
   "id": "6",
   "metadata": {},
   "outputs": [],
   "source": [
    "# **Step 4: Create a PTSD Likelihood Proxy**\n",
    "agg_data['ptsd_likelihood'] = agg_data.apply(\n",
    "    lambda row: 1 if row['missile_attack_count'] > 3 and row['total_fatalities'] > 1 else 0, axis=1\n",
    ")\n"
   ]
  },
  {
   "cell_type": "code",
   "execution_count": 25,
   "id": "7",
   "metadata": {},
   "outputs": [],
   "source": [
    "# **Step 5: Feature Engineering**\n",
    "features = ['missile_attack_count', 'total_fatalities']\n",
    "# Add interaction and log transformation features\n",
    "agg_data['attack_fatality_interaction'] = agg_data['missile_attack_count'] * agg_data['total_fatalities']\n",
    "agg_data['log_missile_attack_count'] = np.log1p(agg_data['missile_attack_count'])\n",
    "agg_data['log_total_fatalities'] = np.log1p(agg_data['total_fatalities'])\n",
    "features.extend(['attack_fatality_interaction', 'log_missile_attack_count', 'log_total_fatalities'])\n",
    "# Prepare feature matrix (X) and target vector (y)\n",
    "X = agg_data[features]\n",
    "y = agg_data['ptsd_likelihood']\n"
   ]
  },
  {
   "cell_type": "code",
   "execution_count": 26,
   "id": "8",
   "metadata": {},
   "outputs": [],
   "source": [
    "# **Step 6: Normalize/Scale Features**\n",
    "scaler = StandardScaler()\n",
    "X_scaled = scaler.fit_transform(X)\n"
   ]
  },
  {
   "cell_type": "code",
   "execution_count": 27,
   "id": "9",
   "metadata": {},
   "outputs": [],
   "source": [
    "# **Step 7: Train-Test Split**\n",
    "X_train, X_test, y_train, y_test = train_test_split(X_scaled, y, test_size=0.3, random_state=42)\n"
   ]
  },
  {
   "cell_type": "code",
   "execution_count": 28,
   "id": "10",
   "metadata": {},
   "outputs": [],
   "source": [
    "# **Step 8: Balance Dataset using SMOTE (if necessary)**\n",
    "smote = SMOTE(random_state=42)\n",
    "X_train_smote, y_train_smote = smote.fit_resample(X_train, y_train)\n"
   ]
  },
  {
   "cell_type": "code",
   "execution_count": 29,
   "id": "11",
   "metadata": {},
   "outputs": [
    {
     "name": "stdout",
     "output_type": "stream",
     "text": [
      "Logistic Regression Results:\n",
      "Accuracy: 0.9074074074074074\n",
      "Classification Report:\n",
      "               precision    recall  f1-score   support\n",
      "\n",
      "           0       0.99      0.84      0.91        86\n",
      "           1       0.84      0.99      0.91        76\n",
      "\n",
      "    accuracy                           0.91       162\n",
      "   macro avg       0.91      0.91      0.91       162\n",
      "weighted avg       0.92      0.91      0.91       162\n",
      "\n",
      "Confusion Matrix:\n",
      " [[72 14]\n",
      " [ 1 75]]\n"
     ]
    }
   ],
   "source": [
    "# **Train Logistic Regression Model**\n",
    "logreg = LogisticRegression(random_state=42)\n",
    "logreg.fit(X_train_smote, y_train_smote)\n",
    "y_pred = logreg.predict(X_test)\n",
    "print('Logistic Regression Results:')\n",
    "print('Accuracy:', accuracy_score(y_test, y_pred))\n",
    "print('Classification Report:\\n', classification_report(y_test, y_pred))\n",
    "print('Confusion Matrix:\\n', confusion_matrix(y_test, y_pred))\n"
   ]
  },
  {
   "cell_type": "code",
   "execution_count": 30,
   "id": "12",
   "metadata": {},
   "outputs": [
    {
     "name": "stdout",
     "output_type": "stream",
     "text": [
      "Random Forest Results:\n",
      "Accuracy: 1.0\n",
      "Classification Report:\n",
      "               precision    recall  f1-score   support\n",
      "\n",
      "           0       1.00      1.00      1.00        86\n",
      "           1       1.00      1.00      1.00        76\n",
      "\n",
      "    accuracy                           1.00       162\n",
      "   macro avg       1.00      1.00      1.00       162\n",
      "weighted avg       1.00      1.00      1.00       162\n",
      "\n",
      "Confusion Matrix:\n",
      " [[86  0]\n",
      " [ 0 76]]\n"
     ]
    }
   ],
   "source": [
    "# **Train Random Forest Model**\n",
    "rf = RandomForestClassifier(random_state=42)\n",
    "rf.fit(X_train_smote, y_train_smote)\n",
    "y_pred_rf = rf.predict(X_test)\n",
    "print('Random Forest Results:')\n",
    "print('Accuracy:', accuracy_score(y_test, y_pred_rf))\n",
    "print('Classification Report:\\n', classification_report(y_test, y_pred_rf))\n",
    "print('Confusion Matrix:\\n', confusion_matrix(y_test, y_pred_rf))\n"
   ]
  },
  {
   "cell_type": "code",
   "execution_count": 31,
   "id": "13",
   "metadata": {},
   "outputs": [
    {
     "name": "stdout",
     "output_type": "stream",
     "text": [
      "SVM Results:\n",
      "Accuracy: 0.9629629629629629\n",
      "Classification Report:\n",
      "               precision    recall  f1-score   support\n",
      "\n",
      "           0       0.99      0.94      0.96        86\n",
      "           1       0.94      0.99      0.96        76\n",
      "\n",
      "    accuracy                           0.96       162\n",
      "   macro avg       0.96      0.96      0.96       162\n",
      "weighted avg       0.96      0.96      0.96       162\n",
      "\n",
      "Confusion Matrix:\n",
      " [[81  5]\n",
      " [ 1 75]]\n"
     ]
    }
   ],
   "source": [
    "# **Train Support Vector Machine (SVM) Model**\n",
    "svm = SVC(random_state=42)\n",
    "svm.fit(X_train_smote, y_train_smote)\n",
    "y_pred_svm = svm.predict(X_test)\n",
    "print('SVM Results:')\n",
    "print('Accuracy:', accuracy_score(y_test, y_pred_svm))\n",
    "print('Classification Report:\\n', classification_report(y_test, y_pred_svm))\n",
    "print('Confusion Matrix:\\n', confusion_matrix(y_test, y_pred_svm))\n"
   ]
  },
  {
   "cell_type": "code",
   "execution_count": 32,
   "id": "14",
   "metadata": {},
   "outputs": [
    {
     "name": "stdout",
     "output_type": "stream",
     "text": [
      "Best Parameters: {'max_depth': 10, 'min_samples_split': 2, 'n_estimators': 100}\n",
      "GridSearchCV Random Forest Results:\n",
      "Accuracy: 1.0\n",
      "Classification Report:\n",
      "               precision    recall  f1-score   support\n",
      "\n",
      "           0       1.00      1.00      1.00        86\n",
      "           1       1.00      1.00      1.00        76\n",
      "\n",
      "    accuracy                           1.00       162\n",
      "   macro avg       1.00      1.00      1.00       162\n",
      "weighted avg       1.00      1.00      1.00       162\n",
      "\n",
      "Confusion Matrix:\n",
      " [[86  0]\n",
      " [ 0 76]]\n"
     ]
    }
   ],
   "source": [
    "# **Hyperparameter Tuning with GridSearchCV (for RandomForest)**\n",
    "from sklearn.model_selection import GridSearchCV\n",
    "param_grid = {\n",
    "    'n_estimators': [100, 200],\n",
    "    'max_depth': [10, 20, None],\n",
    "    'min_samples_split': [2, 5],\n",
    "}\n",
    "grid_search = GridSearchCV(estimator=rf, param_grid=param_grid, cv=3, n_jobs=-1)\n",
    "grid_search.fit(X_train_smote, y_train_smote)\n",
    "print('Best Parameters:', grid_search.best_params_)\n",
    "y_pred_grid = grid_search.best_estimator_.predict(X_test)\n",
    "print('GridSearchCV Random Forest Results:')\n",
    "print('Accuracy:', accuracy_score(y_test, y_pred_grid))\n",
    "print('Classification Report:\\n', classification_report(y_test, y_pred_grid))\n",
    "print('Confusion Matrix:\\n', confusion_matrix(y_test, y_pred_grid))\n"
   ]
  },
  {
   "cell_type": "code",
   "execution_count": 33,
   "id": "15",
   "metadata": {},
   "outputs": [
    {
     "data": {
      "image/png": "[encoded data removed]",
      "text/plain": [
       "<Figure size 1000x600 with 1 Axes>"
      ]
     },
     "metadata": {},
     "output_type": "display_data"
    }
   ],
   "source": [
    "# **Feature Importance Visualization for RandomForest**\n",
    "importances = rf.feature_importances_\n",
    "indices = np.argsort(importances)[::-1]\n",
    "plt.figure(figsize=(10, 6))\n",
    "plt.title('Feature Importance')\n",
    "plt.barh(range(len(indices)), importances[indices], align='center')\n",
    "plt.yticks(range(len(indices)), np.array(features)[indices])\n",
    "plt.xlabel('Relative Importance')\n",
    "plt.show()\n"
   ]
  },
  {
   "cell_type": "code",
   "execution_count": 34,
   "id": "16",
   "metadata": {},
   "outputs": [
    {
     "name": "stdout",
     "output_type": "stream",
     "text": [
      "Cross-validation results:\n",
      "Mean Accuracy: 1.0\n",
      "Standard Deviation: 0.0\n"
     ]
    }
   ],
   "source": [
    "# **Cross-Validation with Random Forest**\n",
    "from sklearn.model_selection import cross_val_score\n",
    "cv_scores = cross_val_score(rf, X_scaled, y, cv=5, scoring='accuracy')\n",
    "print('Cross-validation results:')\n",
    "print('Mean Accuracy:', np.mean(cv_scores))\n",
    "print('Standard Deviation:', np.std(cv_scores))\n"
   ]
  },
  {
   "cell_type": "code",
   "execution_count": 35,
   "id": "001adce5",
   "metadata": {},
   "outputs": [],
   "source": [
    "import folium\n",
    "from folium.plugins import MarkerCluster\n",
    "\n",
    "# Initialize a map centered around Lebanon's geographic center\n",
    "m = folium.Map(location=[33.8547, 35.8623], zoom_start=8)  # Coordinates for Lebanon's center\n",
    "\n",
    "# Add a marker cluster for better visualization\n",
    "marker_cluster = MarkerCluster().add_to(m)\n",
    "\n",
    "# Iterate over the aggregated data to add markers\n",
    "for index, row in agg_data.iterrows():\n",
    "    color = 'green' if row['ptsd_likelihood'] == 1 else 'red'\n",
    "    folium.CircleMarker(\n",
    "        location=[row['latitude'], row['longitude']],\n",
    "        radius=5,\n",
    "        color=color,\n",
    "        fill=True,\n",
    "        fill_color=color,\n",
    "        fill_opacity=0.6,\n",
    "        popup=f\"Location: {row['location']}<br>Missile Attacks: {row['missile_attack_count']}<br>Fatalities: {row['total_fatalities']}<br>PTSD Likelihood: {'High' if row['ptsd_likelihood'] == 1 else 'Low'}\"\n",
    "    ).add_to(marker_cluster)\n",
    "\n",
    "# Save the map as an HTML file to visualize\n",
    "m.save('lebanon_ptsd_map.html')\n"
   ]
  }
 ],
 "metadata": {
  "kernelspec": {
   "display_name": "venv",
   "language": "python",
   "name": "python3"
  },
  "language_info": {
   "codemirror_mode": {
    "name": "ipython",
    "version": 3
   },
   "file_extension": ".py",
   "mimetype": "text/x-python",
   "name": "python",
   "nbconvert_exporter": "python",
   "pygments_lexer": "ipython3",
   "version": "3.13.0"
  }
 },
 "nbformat": 4,
 "nbformat_minor": 5
}
